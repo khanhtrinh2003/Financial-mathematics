{
 "cells": [
  {
   "cell_type": "code",
   "execution_count": 1,
   "metadata": {},
   "outputs": [],
   "source": [
    "import numpy as np"
   ]
  },
  {
   "attachments": {},
   "cell_type": "markdown",
   "metadata": {},
   "source": [
    "y=2*t+1\n",
    "\n",
    "t $\\in [0,1]$"
   ]
  },
  {
   "cell_type": "code",
   "execution_count": 32,
   "metadata": {},
   "outputs": [
    {
     "name": "stdout",
     "output_type": "stream",
     "text": [
      "1.333333333332995e-06\n"
     ]
    }
   ],
   "source": [
    "n=1000000\n",
    "s = 0\n",
    "def y(t):\n",
    "    return t**2+1\n",
    "\n",
    "for i in range(n):\n",
    "    t_k1 = (i+1)/n\n",
    "    t_k = i/n\n",
    "    s += abs(y(t_k1)-y(t_k))**2\n",
    "\n",
    "print(s)\n"
   ]
  },
  {
   "cell_type": "code",
   "execution_count": 34,
   "metadata": {},
   "outputs": [
    {
     "name": "stdout",
     "output_type": "stream",
     "text": [
      "1.3333333333000094e-05\n"
     ]
    }
   ],
   "source": [
    "n=100000\n",
    "s = 0\n",
    "def y(t):\n",
    "    return t**2+1\n",
    "\n",
    "for i in range(n):\n",
    "    t_k1 = (i+1)/n\n",
    "    t_k = i/n\n",
    "    s += abs(y(t_k1)-y(t_k))**2\n",
    "\n",
    "print(s)\n"
   ]
  },
  {
   "cell_type": "code",
   "execution_count": null,
   "metadata": {},
   "outputs": [],
   "source": []
  }
 ],
 "metadata": {
  "kernelspec": {
   "display_name": "Python 3",
   "language": "python",
   "name": "python3"
  },
  "language_info": {
   "codemirror_mode": {
    "name": "ipython",
    "version": 3
   },
   "file_extension": ".py",
   "mimetype": "text/x-python",
   "name": "python",
   "nbconvert_exporter": "python",
   "pygments_lexer": "ipython3",
   "version": "3.11.2"
  },
  "orig_nbformat": 4
 },
 "nbformat": 4,
 "nbformat_minor": 2
}
