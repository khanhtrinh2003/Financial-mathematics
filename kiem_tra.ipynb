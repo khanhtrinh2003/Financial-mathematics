{
 "cells": [
  {
   "cell_type": "code",
   "execution_count": 19,
   "metadata": {},
   "outputs": [],
   "source": [
    "import pandas as pd\n",
    "import numpy as np\n",
    "import matplotlib.pyplot as plt\n",
    "import random\n",
    "import seaborn as sns\n",
    "from scipy import stats\n",
    "from vnstock import *"
   ]
  },
  {
   "cell_type": "code",
   "execution_count": 20,
   "metadata": {},
   "outputs": [],
   "source": [
    "vn = pd.read_csv(\"vn_price.csv\", index_col=\"TradingDate\", parse_dates=True)"
   ]
  },
  {
   "cell_type": "code",
   "execution_count": 21,
   "metadata": {},
   "outputs": [
    {
     "data": {
      "text/plain": [
       "Index(['AAA', 'AAM', 'AAT', 'ABR', 'ABS', 'ABT', 'ACB', 'ACC', 'ACG', 'ACL',\n",
       "       ...\n",
       "       'VPS', 'VRC', 'VRE', 'VSC', 'VSH', 'VSI', 'VTB', 'VTO', 'YBM', 'YEG'],\n",
       "      dtype='object', length=406)"
      ]
     },
     "execution_count": 21,
     "metadata": {},
     "output_type": "execute_result"
    }
   ],
   "source": [
    "vn.columns"
   ]
  },
  {
   "cell_type": "code",
   "execution_count": 22,
   "metadata": {},
   "outputs": [],
   "source": [
    "start = \"2013-01-01\"\n",
    "end = \"2023-03-31\"\n",
    "df = vn[(pd.Timestamp(start).date()<=vn.index.date)&(vn.index.date<=pd.Timestamp(end).date())][[\"VIC\",\"YEG\"]]"
   ]
  },
  {
   "cell_type": "code",
   "execution_count": 23,
   "metadata": {},
   "outputs": [],
   "source": [
    "df.to_csv(\"k1.csv\")"
   ]
  },
  {
   "attachments": {},
   "cell_type": "markdown",
   "metadata": {},
   "source": [
    "a) Tính chuỗi dữ liệu về Tỷ suất lợi nhuận theo phương pháp liên tục"
   ]
  },
  {
   "cell_type": "code",
   "execution_count": 24,
   "metadata": {},
   "outputs": [],
   "source": [
    "ti_suat = np.log(df/df.shift(1))"
   ]
  },
  {
   "cell_type": "code",
   "execution_count": 25,
   "metadata": {},
   "outputs": [
    {
     "data": {
      "text/html": [
       "<div>\n",
       "<style scoped>\n",
       "    .dataframe tbody tr th:only-of-type {\n",
       "        vertical-align: middle;\n",
       "    }\n",
       "\n",
       "    .dataframe tbody tr th {\n",
       "        vertical-align: top;\n",
       "    }\n",
       "\n",
       "    .dataframe thead th {\n",
       "        text-align: right;\n",
       "    }\n",
       "</style>\n",
       "<table border=\"1\" class=\"dataframe\">\n",
       "  <thead>\n",
       "    <tr style=\"text-align: right;\">\n",
       "      <th></th>\n",
       "      <th>VIC</th>\n",
       "      <th>YEG</th>\n",
       "    </tr>\n",
       "    <tr>\n",
       "      <th>TradingDate</th>\n",
       "      <th></th>\n",
       "      <th></th>\n",
       "    </tr>\n",
       "  </thead>\n",
       "  <tbody>\n",
       "    <tr>\n",
       "      <th>2018-06-27</th>\n",
       "      <td>0.012858</td>\n",
       "      <td>0.067659</td>\n",
       "    </tr>\n",
       "    <tr>\n",
       "      <th>2018-06-28</th>\n",
       "      <td>0.038260</td>\n",
       "      <td>0.066289</td>\n",
       "    </tr>\n",
       "    <tr>\n",
       "      <th>2018-06-29</th>\n",
       "      <td>0.000000</td>\n",
       "      <td>-0.072539</td>\n",
       "    </tr>\n",
       "    <tr>\n",
       "      <th>2018-07-02</th>\n",
       "      <td>-0.002798</td>\n",
       "      <td>-0.072470</td>\n",
       "    </tr>\n",
       "    <tr>\n",
       "      <th>2018-07-03</th>\n",
       "      <td>-0.072533</td>\n",
       "      <td>-0.072321</td>\n",
       "    </tr>\n",
       "    <tr>\n",
       "      <th>...</th>\n",
       "      <td>...</td>\n",
       "      <td>...</td>\n",
       "    </tr>\n",
       "    <tr>\n",
       "      <th>2023-02-24</th>\n",
       "      <td>-0.001889</td>\n",
       "      <td>-0.063949</td>\n",
       "    </tr>\n",
       "    <tr>\n",
       "      <th>2023-02-27</th>\n",
       "      <td>-0.007590</td>\n",
       "      <td>-0.058269</td>\n",
       "    </tr>\n",
       "    <tr>\n",
       "      <th>2023-02-28</th>\n",
       "      <td>0.001903</td>\n",
       "      <td>0.039221</td>\n",
       "    </tr>\n",
       "    <tr>\n",
       "      <th>2023-03-01</th>\n",
       "      <td>0.001899</td>\n",
       "      <td>0.037740</td>\n",
       "    </tr>\n",
       "    <tr>\n",
       "      <th>2023-03-02</th>\n",
       "      <td>-0.001899</td>\n",
       "      <td>-0.009302</td>\n",
       "    </tr>\n",
       "  </tbody>\n",
       "</table>\n",
       "<p>1171 rows × 2 columns</p>\n",
       "</div>"
      ],
      "text/plain": [
       "                  VIC       YEG\n",
       "TradingDate                    \n",
       "2018-06-27   0.012858  0.067659\n",
       "2018-06-28   0.038260  0.066289\n",
       "2018-06-29   0.000000 -0.072539\n",
       "2018-07-02  -0.002798 -0.072470\n",
       "2018-07-03  -0.072533 -0.072321\n",
       "...               ...       ...\n",
       "2023-02-24  -0.001889 -0.063949\n",
       "2023-02-27  -0.007590 -0.058269\n",
       "2023-02-28   0.001903  0.039221\n",
       "2023-03-01   0.001899  0.037740\n",
       "2023-03-02  -0.001899 -0.009302\n",
       "\n",
       "[1171 rows x 2 columns]"
      ]
     },
     "execution_count": 25,
     "metadata": {},
     "output_type": "execute_result"
    }
   ],
   "source": [
    "ti_suat.dropna(inplace=True)\n",
    "ti_suat"
   ]
  },
  {
   "attachments": {},
   "cell_type": "markdown",
   "metadata": {},
   "source": [
    "b) Lấy thông tin về Thống kê mô tả của hai chuỗi Tỷ suất lợi nhuận nói trên trong Excel"
   ]
  },
  {
   "cell_type": "code",
   "execution_count": 26,
   "metadata": {},
   "outputs": [
    {
     "data": {
      "text/html": [
       "<div>\n",
       "<style scoped>\n",
       "    .dataframe tbody tr th:only-of-type {\n",
       "        vertical-align: middle;\n",
       "    }\n",
       "\n",
       "    .dataframe tbody tr th {\n",
       "        vertical-align: top;\n",
       "    }\n",
       "\n",
       "    .dataframe thead th {\n",
       "        text-align: right;\n",
       "    }\n",
       "</style>\n",
       "<table border=\"1\" class=\"dataframe\">\n",
       "  <thead>\n",
       "    <tr style=\"text-align: right;\">\n",
       "      <th></th>\n",
       "      <th>VIC</th>\n",
       "      <th>YEG</th>\n",
       "    </tr>\n",
       "  </thead>\n",
       "  <tbody>\n",
       "    <tr>\n",
       "      <th>count</th>\n",
       "      <td>1171.000000</td>\n",
       "      <td>1171.000000</td>\n",
       "    </tr>\n",
       "    <tr>\n",
       "      <th>mean</th>\n",
       "      <td>-0.000466</td>\n",
       "      <td>-0.002847</td>\n",
       "    </tr>\n",
       "    <tr>\n",
       "      <th>std</th>\n",
       "      <td>0.018366</td>\n",
       "      <td>0.035999</td>\n",
       "    </tr>\n",
       "    <tr>\n",
       "      <th>min</th>\n",
       "      <td>-0.072567</td>\n",
       "      <td>-0.072571</td>\n",
       "    </tr>\n",
       "    <tr>\n",
       "      <th>25%</th>\n",
       "      <td>-0.007483</td>\n",
       "      <td>-0.020160</td>\n",
       "    </tr>\n",
       "    <tr>\n",
       "      <th>50%</th>\n",
       "      <td>0.000000</td>\n",
       "      <td>-0.001735</td>\n",
       "    </tr>\n",
       "    <tr>\n",
       "      <th>75%</th>\n",
       "      <td>0.005387</td>\n",
       "      <td>0.014071</td>\n",
       "    </tr>\n",
       "    <tr>\n",
       "      <th>max</th>\n",
       "      <td>0.067601</td>\n",
       "      <td>0.067659</td>\n",
       "    </tr>\n",
       "  </tbody>\n",
       "</table>\n",
       "</div>"
      ],
      "text/plain": [
       "               VIC          YEG\n",
       "count  1171.000000  1171.000000\n",
       "mean     -0.000466    -0.002847\n",
       "std       0.018366     0.035999\n",
       "min      -0.072567    -0.072571\n",
       "25%      -0.007483    -0.020160\n",
       "50%       0.000000    -0.001735\n",
       "75%       0.005387     0.014071\n",
       "max       0.067601     0.067659"
      ]
     },
     "execution_count": 26,
     "metadata": {},
     "output_type": "execute_result"
    }
   ],
   "source": [
    "ti_suat.describe()"
   ]
  },
  {
   "attachments": {},
   "cell_type": "markdown",
   "metadata": {},
   "source": [
    "c) Lập danh mục đầu tư hai cổ phiếu với Tỷ trọng thay đổi.  Tính Tỷ suất lợi nhuận của danh mục theo hai cách : trực tiếp và gián tiếp."
   ]
  },
  {
   "attachments": {},
   "cell_type": "markdown",
   "metadata": {},
   "source": [
    "Danh mục"
   ]
  },
  {
   "cell_type": "code",
   "execution_count": 27,
   "metadata": {},
   "outputs": [],
   "source": [
    "weights = df.div(df.abs().sum(axis=1), axis=0)"
   ]
  },
  {
   "cell_type": "code",
   "execution_count": 28,
   "metadata": {},
   "outputs": [
    {
     "data": {
      "text/html": [
       "<div>\n",
       "<style scoped>\n",
       "    .dataframe tbody tr th:only-of-type {\n",
       "        vertical-align: middle;\n",
       "    }\n",
       "\n",
       "    .dataframe tbody tr th {\n",
       "        vertical-align: top;\n",
       "    }\n",
       "\n",
       "    .dataframe thead th {\n",
       "        text-align: right;\n",
       "    }\n",
       "</style>\n",
       "<table border=\"1\" class=\"dataframe\">\n",
       "  <thead>\n",
       "    <tr style=\"text-align: right;\">\n",
       "      <th></th>\n",
       "      <th>VIC</th>\n",
       "      <th>YEG</th>\n",
       "    </tr>\n",
       "    <tr>\n",
       "      <th>TradingDate</th>\n",
       "      <th></th>\n",
       "      <th></th>\n",
       "    </tr>\n",
       "  </thead>\n",
       "  <tbody>\n",
       "    <tr>\n",
       "      <th>2013-02-25</th>\n",
       "      <td>NaN</td>\n",
       "      <td>NaN</td>\n",
       "    </tr>\n",
       "    <tr>\n",
       "      <th>2013-02-26</th>\n",
       "      <td>1.000000</td>\n",
       "      <td>NaN</td>\n",
       "    </tr>\n",
       "    <tr>\n",
       "      <th>2013-02-27</th>\n",
       "      <td>1.000000</td>\n",
       "      <td>NaN</td>\n",
       "    </tr>\n",
       "    <tr>\n",
       "      <th>2013-02-28</th>\n",
       "      <td>1.000000</td>\n",
       "      <td>NaN</td>\n",
       "    </tr>\n",
       "    <tr>\n",
       "      <th>2013-03-01</th>\n",
       "      <td>1.000000</td>\n",
       "      <td>NaN</td>\n",
       "    </tr>\n",
       "    <tr>\n",
       "      <th>...</th>\n",
       "      <td>...</td>\n",
       "      <td>...</td>\n",
       "    </tr>\n",
       "    <tr>\n",
       "      <th>2023-02-24</th>\n",
       "      <td>0.824261</td>\n",
       "      <td>0.175739</td>\n",
       "    </tr>\n",
       "    <tr>\n",
       "      <th>2023-02-27</th>\n",
       "      <td>0.833071</td>\n",
       "      <td>0.166929</td>\n",
       "    </tr>\n",
       "    <tr>\n",
       "      <th>2023-02-28</th>\n",
       "      <td>0.840000</td>\n",
       "      <td>0.160000</td>\n",
       "    </tr>\n",
       "    <tr>\n",
       "      <th>2023-03-01</th>\n",
       "      <td>0.834921</td>\n",
       "      <td>0.165079</td>\n",
       "    </tr>\n",
       "    <tr>\n",
       "      <th>2023-03-02</th>\n",
       "      <td>0.829921</td>\n",
       "      <td>0.170079</td>\n",
       "    </tr>\n",
       "  </tbody>\n",
       "</table>\n",
       "<p>2502 rows × 2 columns</p>\n",
       "</div>"
      ],
      "text/plain": [
       "                  VIC       YEG\n",
       "TradingDate                    \n",
       "2013-02-25        NaN       NaN\n",
       "2013-02-26   1.000000       NaN\n",
       "2013-02-27   1.000000       NaN\n",
       "2013-02-28   1.000000       NaN\n",
       "2013-03-01   1.000000       NaN\n",
       "...               ...       ...\n",
       "2023-02-24   0.824261  0.175739\n",
       "2023-02-27   0.833071  0.166929\n",
       "2023-02-28   0.840000  0.160000\n",
       "2023-03-01   0.834921  0.165079\n",
       "2023-03-02   0.829921  0.170079\n",
       "\n",
       "[2502 rows x 2 columns]"
      ]
     },
     "execution_count": 28,
     "metadata": {},
     "output_type": "execute_result"
    }
   ],
   "source": [
    "weights.shift(1)"
   ]
  },
  {
   "cell_type": "code",
   "execution_count": 29,
   "metadata": {},
   "outputs": [],
   "source": [
    "ti_suat_danh_muc = np.sum(weights.shift(1)*ti_suat,axis=1)"
   ]
  },
  {
   "attachments": {},
   "cell_type": "markdown",
   "metadata": {},
   "source": [
    "d) Kiểm chứng tính chuẩn của Tỷ suất lợi nhuận các cổ phiếu và danh mục."
   ]
  },
  {
   "cell_type": "code",
   "execution_count": 30,
   "metadata": {},
   "outputs": [],
   "source": [
    "from scipy.stats import jarque_bera\n",
    "jb_value_VIC, p_value_VIC = jarque_bera(ti_suat[\"VIC\"])\n",
    "jb_value_YEG, p_value_YEG = jarque_bera(ti_suat[\"YEG\"])\n",
    "jb_value_port, p_value_port = jarque_bera(ti_suat_danh_muc)"
   ]
  },
  {
   "cell_type": "code",
   "execution_count": 31,
   "metadata": {},
   "outputs": [
    {
     "name": "stdout",
     "output_type": "stream",
     "text": [
      "VIC p_value: 4.1348371005594826e-194\n",
      "YEG p_value: 0.706175335031954\n",
      "Portfolio p_value: 0.0\n"
     ]
    }
   ],
   "source": [
    "print(f\"VIC p_value: {p_value_VIC}\")\n",
    "print(f\"YEG p_value: {p_value_YEG}\")\n",
    "print(f\"Portfolio p_value: {p_value_port}\")"
   ]
  },
  {
   "cell_type": "code",
   "execution_count": 32,
   "metadata": {},
   "outputs": [
    {
     "data": {
      "text/plain": [
       "<Axes: ylabel='Density'>"
      ]
     },
     "execution_count": 32,
     "metadata": {},
     "output_type": "execute_result"
    },
    {
     "data": {
      "image/png": "[encoded data removed]",
      "text/plain": [
       "<Figure size 640x480 with 1 Axes>"
      ]
     },
     "metadata": {},
     "output_type": "display_data"
    }
   ],
   "source": [
    "sns.kdeplot(ti_suat)"
   ]
  },
  {
   "cell_type": "code",
   "execution_count": 33,
   "metadata": {},
   "outputs": [
    {
     "data": {
      "text/plain": [
       "<matplotlib.legend.Legend at 0x1f3e5310110>"
      ]
     },
     "execution_count": 33,
     "metadata": {},
     "output_type": "execute_result"
    },
    {
     "data": {
      "image/png": "[encoded data removed]",
      "text/plain": [
       "<Figure size 640x480 with 1 Axes>"
      ]
     },
     "metadata": {},
     "output_type": "display_data"
    }
   ],
   "source": [
    "sns.kdeplot(ti_suat_danh_muc,color=\"green\",label=\"Tỉ suất danh mục\")\n",
    "plt.legend()"
   ]
  },
  {
   "attachments": {},
   "cell_type": "markdown",
   "metadata": {},
   "source": [
    "Vậy YEG phân phối chuẩn"
   ]
  },
  {
   "attachments": {},
   "cell_type": "markdown",
   "metadata": {},
   "source": [
    "e) Giả sử có một trong 3 chuỗi trên phân phối chuẩn hãy viết Phương trình động thái giá (hoặc danh mục) theo mô hình chuyển động Brown hình học."
   ]
  },
  {
   "attachments": {},
   "cell_type": "markdown",
   "metadata": {},
   "source": [
    "Giả sử mô hình chuyển động của giá là $S(t)=S(0)e^{\\sigma B_t+(\\mu-\\frac12 \\sigma^2)t}$\n",
    "#### Ước lượng $\\mu$\n",
    "$$\n",
    "\\begin{aligned}\n",
    "&\\Rarr r=\\frac{dS_t}{S_t}=\\mu dt+\\sigma dB_t\\\\\n",
    "&\\Rarr E(r)=E(\\frac{dS_t}{S_t})=E(\\mu dt+\\sigma dB_t)\\\\\n",
    "&\\Rarr E(r)=E(\\mu dt)+E(\\sigma dB_t)\\\\\n",
    "&\\Rarr E(r)=\\mu E(dt)\\\\\n",
    "&\\Rarr \\frac{E(r)}{dt}=\\mu\n",
    "\\end{aligned}\n",
    "$$\n",
    "\n",
    "#### Ước lượng $\\sigma$\n",
    "$$\n",
    "\\begin{aligned}\n",
    "&\\Rarr r=\\frac{dS_t}{S_t}=\\mu dt+\\sigma dB_t\\\\\n",
    "&\\Rarr V(r)=V(\\frac{dS_t}{S_t})=V(\\mu dt+\\sigma dB_t)\\\\\n",
    "&\\Rarr V(r)=V(\\mu dt)+V(\\sigma dB_t)\\\\\n",
    "&\\Rarr V(r)=\\sigma^2 \\times dt\\\\\n",
    "&\\Rarr \\sqrt{\\frac{V(r)}{dt}}=\\sigma\n",
    "\\end{aligned}\n",
    "$$"
   ]
  },
  {
   "cell_type": "code",
   "execution_count": 34,
   "metadata": {},
   "outputs": [],
   "source": [
    "def mu_sigma(tisuat,hs):\n",
    "    mu = (tisuat.mean())*hs\n",
    "    sigma = np.sqrt(tisuat.var()*hs)\n",
    "    return mu, sigma"
   ]
  },
  {
   "cell_type": "code",
   "execution_count": 56,
   "metadata": {},
   "outputs": [
    {
     "data": {
      "image/png": "[encoded data removed]",
      "text/plain": [
       "<Figure size 640x480 with 1 Axes>"
      ]
     },
     "metadata": {},
     "output_type": "display_data"
    }
   ],
   "source": [
    "ticker = \"VIC\"\n",
    "mu, sigma =  mu_sigma(ti_suat[ticker],len(ti_suat))\n",
    "\n",
    "T=1\n",
    "N=len(df) # Số bước \n",
    "M=10000 # Số kịch bản\n",
    "dt=T/N\n",
    "t=np.arange(0,1,dt)\n",
    "dW = np.sqrt(dt)*np.random.randn(M,N)\n",
    "W = np.cumsum(dW,axis=1)\n",
    "S0 = df[ticker][0]\n",
    "mu=1\n",
    "sigma=0.5\n",
    "U=np.exp((mu-0.5*sigma**2)*t+sigma*W)\n",
    "Umean = np.mean(U,axis=0)\n",
    "plt.plot(df.index,S0*U[:3].T) #Vẽ 5 đường\n",
    "plt.plot(df.index,S0*Umean,label=\"Trung bình giữa các đường\")\n",
    "plt.plot(df[ticker],label=f\"Giá của {ticker}\")\n",
    "plt.legend()\n",
    "plt.show()"
   ]
  },
  {
   "cell_type": "code",
   "execution_count": 41,
   "metadata": {},
   "outputs": [
    {
     "data": {
      "text/plain": [
       "0.5"
      ]
     },
     "execution_count": 41,
     "metadata": {},
     "output_type": "execute_result"
    }
   ],
   "source": [
    "sigma"
   ]
  },
  {
   "cell_type": "code",
   "execution_count": 36,
   "metadata": {},
   "outputs": [
    {
     "data": {
      "text/html": [
       "<div>\n",
       "<style scoped>\n",
       "    .dataframe tbody tr th:only-of-type {\n",
       "        vertical-align: middle;\n",
       "    }\n",
       "\n",
       "    .dataframe tbody tr th {\n",
       "        vertical-align: top;\n",
       "    }\n",
       "\n",
       "    .dataframe thead th {\n",
       "        text-align: right;\n",
       "    }\n",
       "</style>\n",
       "<table border=\"1\" class=\"dataframe\">\n",
       "  <thead>\n",
       "    <tr style=\"text-align: right;\">\n",
       "      <th></th>\n",
       "      <th>VIC</th>\n",
       "      <th>YEG</th>\n",
       "      <th>r_VIC</th>\n",
       "      <th>r_YEG</th>\n",
       "      <th>a_VIC</th>\n",
       "      <th>a_YEG</th>\n",
       "      <th>returns</th>\n",
       "    </tr>\n",
       "    <tr>\n",
       "      <th>TradingDate</th>\n",
       "      <th></th>\n",
       "      <th></th>\n",
       "      <th></th>\n",
       "      <th></th>\n",
       "      <th></th>\n",
       "      <th></th>\n",
       "      <th></th>\n",
       "    </tr>\n",
       "  </thead>\n",
       "  <tbody>\n",
       "    <tr>\n",
       "      <th>2013-02-25</th>\n",
       "      <td>18247.0</td>\n",
       "      <td>NaN</td>\n",
       "      <td>NaN</td>\n",
       "      <td>NaN</td>\n",
       "      <td>1.000000</td>\n",
       "      <td>NaN</td>\n",
       "      <td>0.000000</td>\n",
       "    </tr>\n",
       "    <tr>\n",
       "      <th>2013-02-26</th>\n",
       "      <td>17545.0</td>\n",
       "      <td>NaN</td>\n",
       "      <td>NaN</td>\n",
       "      <td>NaN</td>\n",
       "      <td>1.000000</td>\n",
       "      <td>NaN</td>\n",
       "      <td>0.000000</td>\n",
       "    </tr>\n",
       "    <tr>\n",
       "      <th>2013-02-27</th>\n",
       "      <td>17826.0</td>\n",
       "      <td>NaN</td>\n",
       "      <td>NaN</td>\n",
       "      <td>NaN</td>\n",
       "      <td>1.000000</td>\n",
       "      <td>NaN</td>\n",
       "      <td>0.000000</td>\n",
       "    </tr>\n",
       "    <tr>\n",
       "      <th>2013-02-28</th>\n",
       "      <td>18809.0</td>\n",
       "      <td>NaN</td>\n",
       "      <td>NaN</td>\n",
       "      <td>NaN</td>\n",
       "      <td>1.000000</td>\n",
       "      <td>NaN</td>\n",
       "      <td>0.000000</td>\n",
       "    </tr>\n",
       "    <tr>\n",
       "      <th>2013-03-01</th>\n",
       "      <td>18528.0</td>\n",
       "      <td>NaN</td>\n",
       "      <td>NaN</td>\n",
       "      <td>NaN</td>\n",
       "      <td>1.000000</td>\n",
       "      <td>NaN</td>\n",
       "      <td>0.000000</td>\n",
       "    </tr>\n",
       "    <tr>\n",
       "      <th>...</th>\n",
       "      <td>...</td>\n",
       "      <td>...</td>\n",
       "      <td>...</td>\n",
       "      <td>...</td>\n",
       "      <td>...</td>\n",
       "      <td>...</td>\n",
       "      <td>...</td>\n",
       "    </tr>\n",
       "    <tr>\n",
       "      <th>2023-02-24</th>\n",
       "      <td>52900.0</td>\n",
       "      <td>10600.0</td>\n",
       "      <td>-0.001889</td>\n",
       "      <td>-0.063949</td>\n",
       "      <td>0.833071</td>\n",
       "      <td>0.166929</td>\n",
       "      <td>-0.012795</td>\n",
       "    </tr>\n",
       "    <tr>\n",
       "      <th>2023-02-27</th>\n",
       "      <td>52500.0</td>\n",
       "      <td>10000.0</td>\n",
       "      <td>-0.007590</td>\n",
       "      <td>-0.058269</td>\n",
       "      <td>0.840000</td>\n",
       "      <td>0.160000</td>\n",
       "      <td>-0.016050</td>\n",
       "    </tr>\n",
       "    <tr>\n",
       "      <th>2023-02-28</th>\n",
       "      <td>52600.0</td>\n",
       "      <td>10400.0</td>\n",
       "      <td>0.001903</td>\n",
       "      <td>0.039221</td>\n",
       "      <td>0.834921</td>\n",
       "      <td>0.165079</td>\n",
       "      <td>0.007874</td>\n",
       "    </tr>\n",
       "    <tr>\n",
       "      <th>2023-03-01</th>\n",
       "      <td>52700.0</td>\n",
       "      <td>10800.0</td>\n",
       "      <td>0.001899</td>\n",
       "      <td>0.037740</td>\n",
       "      <td>0.829921</td>\n",
       "      <td>0.170079</td>\n",
       "      <td>0.007816</td>\n",
       "    </tr>\n",
       "    <tr>\n",
       "      <th>2023-03-02</th>\n",
       "      <td>52600.0</td>\n",
       "      <td>10700.0</td>\n",
       "      <td>-0.001899</td>\n",
       "      <td>-0.009302</td>\n",
       "      <td>0.830964</td>\n",
       "      <td>0.169036</td>\n",
       "      <td>-0.003158</td>\n",
       "    </tr>\n",
       "  </tbody>\n",
       "</table>\n",
       "<p>2502 rows × 7 columns</p>\n",
       "</div>"
      ],
      "text/plain": [
       "                 VIC      YEG     r_VIC     r_YEG     a_VIC     a_YEG  \\\n",
       "TradingDate                                                             \n",
       "2013-02-25   18247.0      NaN       NaN       NaN  1.000000       NaN   \n",
       "2013-02-26   17545.0      NaN       NaN       NaN  1.000000       NaN   \n",
       "2013-02-27   17826.0      NaN       NaN       NaN  1.000000       NaN   \n",
       "2013-02-28   18809.0      NaN       NaN       NaN  1.000000       NaN   \n",
       "2013-03-01   18528.0      NaN       NaN       NaN  1.000000       NaN   \n",
       "...              ...      ...       ...       ...       ...       ...   \n",
       "2023-02-24   52900.0  10600.0 -0.001889 -0.063949  0.833071  0.166929   \n",
       "2023-02-27   52500.0  10000.0 -0.007590 -0.058269  0.840000  0.160000   \n",
       "2023-02-28   52600.0  10400.0  0.001903  0.039221  0.834921  0.165079   \n",
       "2023-03-01   52700.0  10800.0  0.001899  0.037740  0.829921  0.170079   \n",
       "2023-03-02   52600.0  10700.0 -0.001899 -0.009302  0.830964  0.169036   \n",
       "\n",
       "              returns  \n",
       "TradingDate            \n",
       "2013-02-25   0.000000  \n",
       "2013-02-26   0.000000  \n",
       "2013-02-27   0.000000  \n",
       "2013-02-28   0.000000  \n",
       "2013-03-01   0.000000  \n",
       "...               ...  \n",
       "2023-02-24  -0.012795  \n",
       "2023-02-27  -0.016050  \n",
       "2023-02-28   0.007874  \n",
       "2023-03-01   0.007816  \n",
       "2023-03-02  -0.003158  \n",
       "\n",
       "[2502 rows x 7 columns]"
      ]
     },
     "execution_count": 36,
     "metadata": {},
     "output_type": "execute_result"
    }
   ],
   "source": [
    "df[['r_VIC','r_YEG']]=ti_suat\n",
    "df[[\"a_VIC\",\"a_YEG\"]]=weights\n",
    "df[\"returns\"]=(weights.shift(1)*ti_suat).sum(axis=1)\n",
    "df"
   ]
  },
  {
   "cell_type": "markdown",
   "metadata": {},
   "source": []
  }
 ],
 "metadata": {
  "kernelspec": {
   "display_name": "Python 3",
   "language": "python",
   "name": "python3"
  },
  "language_info": {
   "codemirror_mode": {
    "name": "ipython",
    "version": 3
   },
   "file_extension": ".py",
   "mimetype": "text/x-python",
   "name": "python",
   "nbconvert_exporter": "python",
   "pygments_lexer": "ipython3",
   "version": "3.11.2"
  },
  "orig_nbformat": 4
 },
 "nbformat": 4,
 "nbformat_minor": 2
}
